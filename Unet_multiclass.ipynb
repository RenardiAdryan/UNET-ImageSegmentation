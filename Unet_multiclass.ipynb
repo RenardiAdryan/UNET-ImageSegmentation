{
 "cells": [
  {
   "cell_type": "code",
   "execution_count": 7,
   "metadata": {},
   "outputs": [],
   "source": [
    "import sys\n",
    "from torch import nn, cat,rand\n",
    "import torch\n",
    "\n",
    "import albumentations as A\n",
    "from albumentations.pytorch import ToTensorV2\n",
    "\n",
    "from PIL import Image\n",
    "from torch.utils.data import Dataset\n",
    "import numpy as np\n",
    "import os\n",
    "\n",
    "from torch import cuda\n",
    "\n",
    "import pandas as pd\n",
    "import shutil"
   ]
  },
  {
   "cell_type": "code",
   "execution_count": null,
   "metadata": {},
   "outputs": [],
   "source": [
    "raw_data_images_dir = \"data/raw_data/raw_images\"\n",
    "raw_data_mask_dir = \"data/raw_data/raw_masks\"\n",
    "\n",
    "dest_train_images_dir = \"data/train/train_images\"\n",
    "dest_train_masks_dir = \"data/train/train_masks\"\n",
    "dest_val_images_dir = \"data/val/val_images\"\n",
    "dest_val_masks_dir = \"data/val/val_masks\""
   ]
  },
  {
   "cell_type": "markdown",
   "metadata": {},
   "source": [
    "# Hyperparameter"
   ]
  },
  {
   "cell_type": "code",
   "execution_count": null,
   "metadata": {},
   "outputs": [],
   "source": [
    "LEARNING_RATE = 1e-4\n",
    "DEVICE = 'cuda:0' if cuda.is_available() else 'cpu'\n",
    "BATCH_SIZE = 64\n",
    "NUM_EPOCHS = 3\n",
    "NUM_WORKERS = 0\n",
    "IMAGE_HEIGHT = 160  # 1280 originally\n",
    "IMAGE_WIDTH = 240  # 1918 originally\n",
    "PIN_MEMORY = True\n",
    "LOAD_MODEL = False\n",
    "TRAIN_IMG_DIR = dest_train_images_dir\n",
    "TRAIN_MASK_DIR = dest_train_masks_dir\n",
    "VAL_IMG_DIR = dest_val_images_dir\n",
    "VAL_MASK_DIR = dest_val_masks_dir"
   ]
  }
 ],
 "metadata": {
  "interpreter": {
   "hash": "3404f2873c26450eb4c61ece645747e6ef6c08af3e94051c3e37c220346b7148"
  },
  "kernelspec": {
   "display_name": "Python 3.9.7 ('unet-pytorch')",
   "language": "python",
   "name": "python3"
  },
  "language_info": {
   "codemirror_mode": {
    "name": "ipython",
    "version": 3
   },
   "file_extension": ".py",
   "mimetype": "text/x-python",
   "name": "python",
   "nbconvert_exporter": "python",
   "pygments_lexer": "ipython3",
   "version": "3.9.7"
  },
  "orig_nbformat": 4
 },
 "nbformat": 4,
 "nbformat_minor": 2
}
